{
 "cells": [
  {
   "cell_type": "code",
   "execution_count": 1,
   "metadata": {},
   "outputs": [],
   "source": [
    "from pso import PSO\n",
    "from fitness import sphere"
   ]
  },
  {
   "cell_type": "code",
   "execution_count": 3,
   "metadata": {},
   "outputs": [
    {
     "name": "stdout",
     "output_type": "stream",
     "text": [
      "[[-4.534880068543191, -1.9313252905844527], [-0.8225571504784632, 1.1873546347473463], [-3.5969373672648386, -3.854414584310646], [2.425643868931206, 0.9861779710473444], [-4.026675724012785, 0.9992038084389883], [-4.969659175019615, -0.29954813001654923], [3.6456020319341933, -3.1859523628200455], [2.4541047178131263, -2.9052039748741745], [2.828420243085457, -2.678132029665627], [-3.978998493540023, 1.2768811188261706], [4.202203308216558, -4.302799774407856], [4.526564537259342, -3.5397626430125513], [4.099477535959511, -2.5613924686221288], [2.9839715397691924, -5.0863341992416125], [-2.2228095538958144, 1.9056657622015898], [3.3415316646229423, 3.3264117820448655], [4.781146628692421, -1.779067843102133], [-4.345593616886825, -1.555702077077167], [-1.224526286961865, 2.426500956917465], [-1.2831662428952608, 2.7640117403377653], [-0.8742309540131386, 0.020543462380974375], [2.779510036124739, -1.9304602214509998], [-2.1316902689159143, -0.8149684754641147], [2.922503379859708, -0.6197488187221385], [-1.7708173257378794, 4.426265520448166], [-4.3995741008500895, 0.1538711221673701], [-1.119459388639676, 1.8472104652675148], [-2.901161495885774, 0.22737304086780075], [-1.3125705163208274, 2.7754549989529904], [1.1465599238292983, -1.7081146621575862]]\n"
     ]
    }
   ],
   "source": [
    "pso = PSO(\n",
    "    func_fitness=sphere,\n",
    "    dimensions=[[-5.12, 5.12]]*2,\n",
    "    num_particles=30,\n",
    "    max_iterations=10000,\n",
    "    inertia=0.8,\n",
    "    topology='LOCAL'\n",
    ")"
   ]
  },
  {
   "cell_type": "code",
   "execution_count": 3,
   "metadata": {},
   "outputs": [],
   "source": [
    "dimensions = [[-5.12, 5.12]]*2"
   ]
  },
  {
   "cell_type": "code",
   "execution_count": 4,
   "metadata": {},
   "outputs": [],
   "source": [
    "import random\n",
    "swarm = []\n",
    "for j in range(30):\n",
    "    position = []\n",
    "    velocity = []\n",
    "    for i in range(0, len(dimensions)):\n",
    "        velocity.append(random.uniform(-1, 1))\n",
    "        position.append(random.uniform(min(dimensions[i]),\n",
    "                                            max(dimensions[i])))\n",
    "    swarm.append(position)"
   ]
  },
  {
   "cell_type": "code",
   "execution_count": 5,
   "metadata": {
    "scrolled": true
   },
   "outputs": [
    {
     "data": {
      "text/plain": [
       "[[-4.651593744725335, -4.683623912076387],\n",
       " [-4.171562388640055, -2.4509566727506513],\n",
       " [0.19352519109810284, -2.4730250620910104],\n",
       " [-4.988774095153007, -2.671744637709128],\n",
       " [4.956115866478178, -4.760559537475813],\n",
       " [2.6518021598679704, 3.640377141484378],\n",
       " [-1.0533243309472997, 2.1567883065635716],\n",
       " [-1.777617903455572, -2.927318201936034],\n",
       " [0.4996011268433316, -1.4169083751613982],\n",
       " [2.1521795920593805, -0.12628658249897828],\n",
       " [2.1649325610559504, -4.589925452746374],\n",
       " [2.784053455788653, 0.4814472579945175],\n",
       " [-2.024556818089543, 0.347327832293681],\n",
       " [2.5874864571675964, 4.625339611690708],\n",
       " [-0.2780034625076011, 1.8088435389617246],\n",
       " [0.90568821670281, -4.600454600526034],\n",
       " [4.843114207955316, -2.493309911215708],\n",
       " [-0.9001506147095544, -3.0333312805063954],\n",
       " [0.3806880469549947, -1.1311150140265434],\n",
       " [-2.744338113447103, 1.9379587711167288],\n",
       " [-4.00627482156513, -3.483291310242744],\n",
       " [-0.12511807345462067, -1.4500339020364175],\n",
       " [-1.9762926234313976, -1.9178280310942273],\n",
       " [-0.14729048961657742, 3.3648272655101534],\n",
       " [0.9735966825860194, -4.052724745966652],\n",
       " [3.262209302275237, -4.0641529443605595],\n",
       " [-1.4887798110598567, -3.946223046884123],\n",
       " [2.888543460186823, 0.8109054565671734],\n",
       " [0.9414115787585171, 1.3841972502795201],\n",
       " [-4.9767864325328155, 0.09586126178974386]]"
      ]
     },
     "execution_count": 5,
     "metadata": {},
     "output_type": "execute_result"
    }
   ],
   "source": [
    "swarm"
   ]
  },
  {
   "cell_type": "code",
   "execution_count": 22,
   "metadata": {},
   "outputs": [],
   "source": [
    "l=[1,2,3]"
   ]
  },
  {
   "cell_type": "code",
   "execution_count": 23,
   "metadata": {},
   "outputs": [
    {
     "data": {
      "text/plain": [
       "1"
      ]
     },
     "execution_count": 23,
     "metadata": {},
     "output_type": "execute_result"
    }
   ],
   "source": [
    "l.index(2)"
   ]
  },
  {
   "cell_type": "code",
   "execution_count": 15,
   "metadata": {},
   "outputs": [
    {
     "data": {
      "text/plain": [
       "False"
      ]
     },
     "execution_count": 15,
     "metadata": {},
     "output_type": "execute_result"
    }
   ],
   "source": [
    "pso.swarm[1] is pso.swarm[2]"
   ]
  },
  {
   "cell_type": "code",
   "execution_count": 17,
   "metadata": {},
   "outputs": [],
   "source": [
    "pos = [p.get_position() for p in pso.swarm]"
   ]
  },
  {
   "cell_type": "code",
   "execution_count": 7,
   "metadata": {},
   "outputs": [
    {
     "data": {
      "text/plain": [
       "[[2.399760776028044, 1.9409768738717372],\n",
       " [2.399760776028044, 1.9409768738717372],\n",
       " [2.399760776028044, 1.9409768738717372],\n",
       " [2.399760776028044, 1.9409768738717372],\n",
       " [-5.12, 5.12],\n",
       " [-5.12, 5.12],\n",
       " [-5.12, 5.12],\n",
       " [-5.12, -5.12],\n",
       " [-5.12, -5.12],\n",
       " [-5.12, -5.12],\n",
       " [-0.4195359648469528, 5.12],\n",
       " [-0.4195359648469528, 5.12],\n",
       " [-0.4195359648469528, 5.12],\n",
       " [-0.4195359648469528, 5.12],\n",
       " [-0.4195359648469528, 5.12],\n",
       " [-0.4195359648469528, 5.12],\n",
       " [2.8303678571834423, -5.12],\n",
       " [2.8303678571834423, -5.12],\n",
       " [2.8303678571834423, -5.12],\n",
       " [2.8303678571834423, -5.12],\n",
       " [2.8303678571834423, -5.12],\n",
       " [-2.5461603523781484, 1.3740800620412557],\n",
       " [-2.5461603523781484, 1.3740800620412557],\n",
       " [-2.5461603523781484, 1.3740800620412557],\n",
       " [-2.5461603523781484, 1.3740800620412557],\n",
       " [0.7252234367162319, -5.12],\n",
       " [0.7252234367162319, -5.12],\n",
       " [5.12, 1.8255828864182326],\n",
       " [5.12, 1.8255828864182326],\n",
       " [5.12, 1.8255828864182326]]"
      ]
     },
     "execution_count": 7,
     "metadata": {},
     "output_type": "execute_result"
    }
   ],
   "source": [
    "pso.position_history[0]"
   ]
  },
  {
   "cell_type": "code",
   "execution_count": 15,
   "metadata": {},
   "outputs": [],
   "source": [
    "from matplotlib import pyplot as plt\n",
    "from matplotlib.animation import FuncAnimation"
   ]
  },
  {
   "cell_type": "code",
   "execution_count": 39,
   "metadata": {},
   "outputs": [
    {
     "data": {
      "text/plain": [
       "<matplotlib.collections.PathCollection at 0x7fb7d2e3fc50>"
      ]
     },
     "execution_count": 39,
     "metadata": {},
     "output_type": "execute_result"
    },
    {
     "data": {
      "image/png": "[encoded data removed]",
      "text/plain": [
       "<Figure size 432x288 with 1 Axes>"
      ]
     },
     "metadata": {
      "needs_background": "light"
     },
     "output_type": "display_data"
    }
   ],
   "source": [
    "plt.scatter(*zip(*pso.position_history[500]))"
   ]
  },
  {
   "cell_type": "code",
   "execution_count": null,
   "metadata": {},
   "outputs": [],
   "source": [
    "def func(i):\n",
    "    plt"
   ]
  },
  {
   "cell_type": "code",
   "execution_count": null,
   "metadata": {},
   "outputs": [],
   "source": [
    "anim = FuncAnimation()"
   ]
  }
 ],
 "metadata": {
  "kernelspec": {
   "display_name": "Python 3",
   "language": "python",
   "name": "python3"
  },
  "language_info": {
   "codemirror_mode": {
    "name": "ipython",
    "version": 3
   },
   "file_extension": ".py",
   "mimetype": "text/x-python",
   "name": "python",
   "nbconvert_exporter": "python",
   "pygments_lexer": "ipython3",
   "version": "3.6.7"
  }
 },
 "nbformat": 4,
 "nbformat_minor": 2
}
